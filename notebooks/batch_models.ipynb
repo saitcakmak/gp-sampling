{
 "cells": [
  {
   "cell_type": "markdown",
   "metadata": {
    "collapsed": true,
    "pycharm": {
     "name": "#%% md\n"
    }
   },
   "source": [
    "This is for testing the decoupled samplers with batch GP models."
   ]
  },
  {
   "cell_type": "code",
   "execution_count": 1,
   "outputs": [
    {
     "name": "stdout",
     "output_type": "stream",
     "text": [
      "Using matplotlib backend: TkAgg\n"
     ]
    }
   ],
   "source": [
    "import torch\n",
    "from gp_sampling.decoupled_samplers import decoupled_sampler\n",
    "from gp_sampling.utils.random_gp import generate_random_gp\n",
    "%matplotlib\n",
    "import matplotlib.pyplot as plt\n",
    "from botorch.sampling import IIDNormalSampler\n",
    "from time import time\n"
   ],
   "metadata": {
    "collapsed": false,
    "pycharm": {
     "name": "#%%\n"
    }
   }
  },
  {
   "cell_type": "code",
   "execution_count": 2,
   "outputs": [],
   "source": [
    "plt.close()\n",
    "\n",
    "model = generate_random_gp(dim=1, num_train=10, standardized=False)\n",
    "num_fant_X = 3\n",
    "fantasy_X = torch.rand(num_fant_X, 1, 1)\n",
    "num_fantasies = 4\n",
    "fantasy_model = model.fantasize(\n",
    "    X=fantasy_X,\n",
    "    sampler=IIDNormalSampler(num_fantasies)\n",
    ")\n",
    "sample_count = 5\n",
    "sample_shape = torch.Size([sample_count])\n",
    "\n",
    "ds = decoupled_sampler(\n",
    "    model=fantasy_model,\n",
    "    sample_shape=sample_shape,\n",
    "    num_basis=256\n",
    ")"
   ],
   "metadata": {
    "collapsed": false,
    "pycharm": {
     "name": "#%%\n"
    }
   }
  },
  {
   "cell_type": "code",
   "execution_count": 3,
   "outputs": [
    {
     "name": "stderr",
     "output_type": "stream",
     "text": [
      "/home/saitcakmak/anaconda3/envs/gp-sampling/lib/python3.8/site-packages/gpytorch/utils/cholesky.py:46: NumericalWarning: A not p.d., added jitter of 1.0e-06 to the diagonal\n",
      "  warnings.warn(f\"A not p.d., added jitter of {jitter_new:.1e} to the diagonal\", NumericalWarning)\n"
     ]
    }
   ],
   "source": [
    "with torch.no_grad():\n",
    "    test_X = torch.linspace(0, 1, 100).reshape(-1, 1)\n",
    "    # samples are sample_shape x num_fantasies x num_fant_X x 100 x 1\n",
    "    ds_samples = ds(test_X).squeeze(-1).detach().permute(1, 2, 3, 0)\n",
    "    # permuted to get sample_shape in the end\n",
    "    exact_samples = fantasy_model.posterior(test_X).rsample(\n",
    "        sample_shape=sample_shape\n",
    "    ).squeeze(-1).detach().permute(1, 2, 3, 0)\n",
    "    post_mean = fantasy_model.posterior(test_X).mean.squeeze(-1)\n",
    "    post_var = fantasy_model.posterior(test_X).variance\n",
    "    post_std = torch.sqrt(post_var).squeeze(-1)\n",
    "\n",
    "fig, axs = plt.subplots(num_fantasies, num_fant_X)\n",
    "\n",
    "for i in range(num_fantasies):\n",
    "    for j in range(num_fant_X):\n",
    "        axs[i, j].plot(test_X, ds_samples[i, j], label=\"decoupled\", color=\"red\")\n",
    "        axs[i, j].plot(test_X, exact_samples[i, j], label=\"exact\", color=\"blue\")\n",
    "        axs[i, j].plot(test_X, post_mean[i, j], label=\"post_mean\", color=\"green\")\n",
    "        axs[i, j].fill_between(\n",
    "            test_X.reshape(-1),\n",
    "            post_mean[i, j] - 2 * post_std[i, j],\n",
    "            post_mean[i, j] + 2 * post_std[i, j],\n",
    "            color=\"green\"\n",
    "        )\n",
    "plt.legend()\n",
    "plt.grid(True)\n",
    "plt.show()"
   ],
   "metadata": {
    "collapsed": false,
    "pycharm": {
     "name": "#%%\n"
    }
   }
  }
 ],
 "metadata": {
  "kernelspec": {
   "display_name": "Python 3",
   "language": "python",
   "name": "python3"
  },
  "language_info": {
   "codemirror_mode": {
    "name": "ipython",
    "version": 2
   },
   "file_extension": ".py",
   "mimetype": "text/x-python",
   "name": "python",
   "nbconvert_exporter": "python",
   "pygments_lexer": "ipython2",
   "version": "2.7.6"
  }
 },
 "nbformat": 4,
 "nbformat_minor": 0
}
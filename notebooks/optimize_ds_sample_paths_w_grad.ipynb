{
 "cells": [
  {
   "cell_type": "markdown",
   "metadata": {
    "collapsed": true,
    "pycharm": {
     "name": "#%% md\n"
    }
   },
   "source": [
    "## The goal of this notebook is to test the optimization of DS sample paths.\n",
    "\n",
    "Let's start by creating a dummy GP model.\n",
    "\n",
    "Using a 1D model for ease of plotting sample paths."
   ]
  },
  {
   "cell_type": "code",
   "execution_count": 1,
   "outputs": [
    {
     "name": "stdout",
     "output_type": "stream",
     "text": [
      "[pyKeOps]: Warning, no cuda detected. Switching to cpu only.\n"
     ]
    }
   ],
   "source": [
    "import torch\n",
    "import gpytorch\n",
    "import botorch\n",
    "\n",
    "device = \"cuda\" if torch.cuda.is_available() else \"cpu\"\n",
    "\n",
    "num_train = 20\n",
    "dim = 1\n",
    "train_X = torch.rand(num_train, dim, device=device)\n",
    "train_Y = torch.randn(num_train, 1, device=device)\n",
    "\n",
    "model = botorch.models.SingleTaskGP(\n",
    "    train_X, train_Y,\n",
    ")\n",
    "mll = gpytorch.mlls.ExactMarginalLogLikelihood(model.likelihood, model)\n",
    "_ = botorch.fit_gpytorch_model(mll)"
   ],
   "metadata": {
    "collapsed": false,
    "pycharm": {
     "name": "#%%\n"
    }
   }
  },
  {
   "cell_type": "markdown",
   "source": [
    "Construct the decoupled sampler for this model.\n",
    "\n",
    "We will focus on a single sample path to simplify grad operations."
   ],
   "metadata": {
    "collapsed": false,
    "pycharm": {
     "name": "#%% md\n"
    }
   }
  },
  {
   "cell_type": "code",
   "execution_count": 2,
   "outputs": [
    {
     "name": "stdout",
     "output_type": "stream",
     "text": [
      "torch.Size([1, 2, 1])\n"
     ]
    }
   ],
   "source": [
    "from gp_sampling import decoupled_sampler\n",
    "\n",
    "ds = decoupled_sampler(\n",
    "    model=model,\n",
    "    sample_shape=torch.Size([1]),\n",
    "    num_basis=256,\n",
    ")\n",
    "\n",
    "# dummy test\n",
    "print(ds(torch.rand(2, dim, device=device)).shape)"
   ],
   "metadata": {
    "collapsed": false,
    "pycharm": {
     "name": "#%%\n"
    }
   }
  },
  {
   "cell_type": "markdown",
   "source": [
    "Let's check whether the output has grad."
   ],
   "metadata": {
    "collapsed": false,
    "pycharm": {
     "name": "#%% md\n"
    }
   }
  },
  {
   "cell_type": "code",
   "execution_count": 3,
   "outputs": [
    {
     "name": "stdout",
     "output_type": "stream",
     "text": [
      "Samples: tensor([[[-1.9555],\n",
      "         [ 0.4391]]], grad_fn=<AddBackward0>), \n",
      "requires grad: True\n",
      "Grad: (tensor([[-1.6371],\n",
      "        [ 2.4491]]),)\n"
     ]
    }
   ],
   "source": [
    "test_X = torch.rand(2, dim, device=device, requires_grad=True)\n",
    "samples = ds(test_X)\n",
    "\n",
    "print(f\"Samples: {samples}, \\n\"\n",
    "      f\"requires grad: {samples.requires_grad}\")\n",
    "\n",
    "grad = torch.autograd.grad(samples.sum(), test_X)\n",
    "print(f\"Grad: {grad}\")\n"
   ],
   "metadata": {
    "collapsed": false,
    "pycharm": {
     "name": "#%%\n"
    }
   }
  },
  {
   "cell_type": "markdown",
   "source": [
    "Let's plot the sample path and see if simple gradient descent gets us to a local\n",
    "minimizer."
   ],
   "metadata": {
    "collapsed": false,
    "pycharm": {
     "name": "#%% md\n"
    }
   }
  },
  {
   "cell_type": "code",
   "execution_count": 4,
   "outputs": [
    {
     "data": {
      "text/plain": "<Figure size 432x288 with 1 Axes>",
      "image/png": "[encoded data removed]"
     },
     "metadata": {
      "needs_background": "light"
     },
     "output_type": "display_data"
    }
   ],
   "source": [
    "import matplotlib.pyplot as plt\n",
    "\n",
    "if dim != 1:\n",
    "    raise RuntimeError(\"Cannot plot sample paths with dim > 1!\")\n",
    "\n",
    "plot_X = torch.linspace(0, 1, 100).to(device).reshape(-1, 1)\n",
    "plot_Y = ds(plot_X).reshape(-1, 1)\n",
    "plt.plot(\n",
    "    plot_X.detach().cpu(), plot_Y.detach().cpu()\n",
    ")\n",
    "\n",
    "X = torch.rand(1, 1, device=device, requires_grad=True)\n",
    "lr = 0.05\n",
    "\n",
    "for i in range(1000):\n",
    "    Y = ds(X)\n",
    "    g = torch.autograd.grad(Y, X)[0]\n",
    "    X = X - lr * g\n",
    "    X = X.clamp(0, 1)\n",
    "\n",
    "plt.axvline(X.detach().cpu(), c=\"b\")\n",
    "\n",
    "# How about multi-start SGD?\n",
    "\n",
    "X = torch.rand(3, 1, device=device, requires_grad=True)\n",
    "\n",
    "for i in range(1000):\n",
    "    Y = ds(X)\n",
    "    g = torch.autograd.grad(Y.sum(), X)[0]\n",
    "    X = X - lr * g\n",
    "    X = X.clamp(0, 1)\n",
    "\n",
    "for x_ in X:\n",
    "    plt.axvline(x_.detach().cpu(), c=\"r\")\n"
   ],
   "metadata": {
    "collapsed": false,
    "pycharm": {
     "name": "#%%\n"
    }
   }
  },
  {
   "cell_type": "markdown",
   "source": [
    "Step size appears to be a factor here. To rule this out, let's try using LBFGS via\n",
    "BoTorch.\n",
    "\n",
    "Note that this maximizes whereas the previous ones were minimization."
   ],
   "metadata": {
    "collapsed": false,
    "pycharm": {
     "name": "#%% md\n"
    }
   }
  },
  {
   "cell_type": "code",
   "execution_count": 5,
   "outputs": [
    {
     "data": {
      "text/plain": "<Figure size 432x288 with 1 Axes>",
      "image/png": "[encoded data removed]"
     },
     "metadata": {
      "needs_background": "light"
     },
     "output_type": "display_data"
    }
   ],
   "source": [
    "# plot the sample path\n",
    "plot_X = torch.linspace(0, 1, 100).to(device).reshape(-1, 1)\n",
    "plot_Y = ds(plot_X).reshape(-1, 1)\n",
    "plt.plot(\n",
    "    plot_X.detach().cpu(), plot_Y.detach().cpu()\n",
    ")\n",
    "\n",
    "solutions, values = botorch.gen_candidates_scipy(\n",
    "    initial_conditions=torch.linspace(0, 1, 10).to(device).reshape(-1, 1),\n",
    "    acquisition_function=ds,\n",
    "    lower_bounds=0.,\n",
    "    upper_bounds=1.,\n",
    ")\n",
    "\n",
    "for x_ in solutions:\n",
    "    plt.axvline(x_.detach().cpu())"
   ],
   "metadata": {
    "collapsed": false,
    "pycharm": {
     "name": "#%%\n"
    }
   }
  }
 ],
 "metadata": {
  "kernelspec": {
   "display_name": "Python 3",
   "language": "python",
   "name": "python3"
  },
  "language_info": {
   "codemirror_mode": {
    "name": "ipython",
    "version": 2
   },
   "file_extension": ".py",
   "mimetype": "text/x-python",
   "name": "python",
   "nbconvert_exporter": "python",
   "pygments_lexer": "ipython2",
   "version": "2.7.6"
  }
 },
 "nbformat": 4,
 "nbformat_minor": 0
}
{
 "cells": [
  {
   "cell_type": "markdown",
   "metadata": {
    "collapsed": true,
    "pycharm": {
     "name": "#%% md\n"
    }
   },
   "source": [
    "## The goal of this notebook is to test the optimization of DS sample paths.\n",
    "\n",
    "Let's start by creating a dummy GP model.\n",
    "\n",
    "Using a 1D model for ease of plotting sample paths."
   ]
  },
  {
   "cell_type": "code",
   "execution_count": 1,
   "outputs": [
    {
     "name": "stdout",
     "output_type": "stream",
     "text": [
      "[pyKeOps]: Warning, no cuda detected. Switching to cpu only.\n"
     ]
    }
   ],
   "source": [
    "import torch\n",
    "import gpytorch\n",
    "import botorch\n",
    "from torch import Tensor\n",
    "\n",
    "device = \"cuda\" if torch.cuda.is_available() else \"cpu\"\n",
    "\n",
    "num_train = 20\n",
    "dim = 1\n",
    "train_X = torch.rand(num_train, dim, device=device)\n",
    "train_Y = torch.randn(num_train, 1, device=device)\n",
    "\n",
    "model = botorch.models.SingleTaskGP(\n",
    "    train_X, train_Y,\n",
    ")\n",
    "mll = gpytorch.mlls.ExactMarginalLogLikelihood(model.likelihood, model)\n",
    "_ = botorch.fit_gpytorch_model(mll)\n"
   ],
   "metadata": {
    "collapsed": false,
    "pycharm": {
     "name": "#%%\n"
    }
   }
  },
  {
   "cell_type": "markdown",
   "source": [
    "Construct the decoupled sampler for this model.\n",
    "\n",
    "We will focus on a single sample path to simplify grad operations."
   ],
   "metadata": {
    "collapsed": false,
    "pycharm": {
     "name": "#%% md\n"
    }
   }
  },
  {
   "cell_type": "code",
   "execution_count": 2,
   "outputs": [
    {
     "name": "stdout",
     "output_type": "stream",
     "text": [
      "torch.Size([2, 2, 1])\n"
     ]
    }
   ],
   "source": [
    "from gp_sampling import decoupled_sampler\n",
    "num_samples = 2\n",
    "\n",
    "ds = decoupled_sampler(\n",
    "    model=model,\n",
    "    sample_shape=torch.Size([num_samples]),\n",
    "    num_basis=256,\n",
    ")\n",
    "\n",
    "# dummy test\n",
    "print(ds(torch.rand(2, dim, device=device)).shape)"
   ],
   "metadata": {
    "collapsed": false,
    "pycharm": {
     "name": "#%%\n"
    }
   }
  },
  {
   "cell_type": "markdown",
   "source": [
    "Let's check whether the output has grad."
   ],
   "metadata": {
    "collapsed": false,
    "pycharm": {
     "name": "#%% md\n"
    }
   }
  },
  {
   "cell_type": "code",
   "execution_count": 3,
   "outputs": [
    {
     "name": "stdout",
     "output_type": "stream",
     "text": [
      "Samples: tensor([[[-0.2563],\n",
      "         [ 0.7565]],\n",
      "\n",
      "        [[ 0.0446],\n",
      "         [ 0.6823]]], grad_fn=<AddBackward0>), \n",
      "requires grad: True\n",
      "Grad: (tensor([[-6.3482],\n",
      "        [ 0.2788]]),)\n"
     ]
    }
   ],
   "source": [
    "test_X = torch.rand(2, dim, device=device, requires_grad=True)\n",
    "samples = ds(test_X)\n",
    "\n",
    "print(f\"Samples: {samples}, \\n\"\n",
    "      f\"requires grad: {samples.requires_grad}\")\n",
    "\n",
    "grad = torch.autograd.grad(samples.sum(), test_X)\n",
    "print(f\"Grad: {grad}\")\n"
   ],
   "metadata": {
    "collapsed": false,
    "pycharm": {
     "name": "#%%\n"
    }
   }
  },
  {
   "cell_type": "markdown",
   "source": [
    "Let's plot the sample path and see if simple gradient descent gets us to a local\n",
    "minimizer.\n",
    "\n",
    "We are only optimizing the first sample path, plotted in blue."
   ],
   "metadata": {
    "collapsed": false,
    "pycharm": {
     "name": "#%% md\n"
    }
   }
  },
  {
   "cell_type": "code",
   "execution_count": 4,
   "outputs": [
    {
     "data": {
      "text/plain": "<Figure size 432x288 with 1 Axes>",
      "image/png": "[encoded data removed]"
     },
     "metadata": {
      "needs_background": "light"
     },
     "output_type": "display_data"
    }
   ],
   "source": [
    "import matplotlib.pyplot as plt\n",
    "\n",
    "if dim != 1:\n",
    "    raise RuntimeError(\"Cannot plot sample paths with dim > 1!\")\n",
    "\n",
    "plot_X = torch.linspace(0, 1, 100).to(device).reshape(-1, 1)\n",
    "plot_Y = ds(plot_X)\n",
    "for i in range(num_samples):\n",
    "    plt.plot(\n",
    "        plot_X.detach().cpu(), plot_Y[i].detach().cpu()\n",
    "    )\n",
    "\n",
    "X = torch.rand(1, 1, device=device, requires_grad=True)\n",
    "lr = 0.05\n",
    "\n",
    "for i in range(1000):\n",
    "    Y = ds(X)[0]\n",
    "    g = torch.autograd.grad(Y, X)[0]\n",
    "    X = X - lr * g\n",
    "    X = X.clamp(0, 1)\n",
    "\n",
    "plt.axvline(X.detach().cpu(), c=\"b\")\n",
    "\n",
    "# How about multi-start SGD?\n",
    "\n",
    "X = torch.rand(3, 1, device=device, requires_grad=True)\n",
    "\n",
    "for i in range(1000):\n",
    "    Y = ds(X)[0]\n",
    "    g = torch.autograd.grad(Y.sum(), X)[0]\n",
    "    X = X - lr * g\n",
    "    X = X.clamp(0, 1)\n",
    "\n",
    "for x_ in X:\n",
    "    plt.axvline(x_.detach().cpu(), c=\"r\")\n"
   ],
   "metadata": {
    "collapsed": false,
    "pycharm": {
     "name": "#%%\n"
    }
   }
  },
  {
   "cell_type": "markdown",
   "source": [
    "Step size appears to be a factor here (to see why, run it multiple times). To rule this\n",
    "out, let's try using LBFGS via BoTorch.\n",
    "\n",
    "Note that below maximizes (blue sample path) whereas the previous ones were minimization."
   ],
   "metadata": {
    "collapsed": false,
    "pycharm": {
     "name": "#%% md\n"
    }
   }
  },
  {
   "cell_type": "code",
   "execution_count": 5,
   "outputs": [
    {
     "data": {
      "text/plain": "<Figure size 432x288 with 1 Axes>",
      "image/png": "[encoded data removed]"
     },
     "metadata": {
      "needs_background": "light"
     },
     "output_type": "display_data"
    }
   ],
   "source": [
    "# plot the sample path\n",
    "plot_X = torch.linspace(0, 1, 100).to(device).reshape(-1, 1)\n",
    "plot_Y = ds(plot_X)\n",
    "for i in range(num_samples):\n",
    "    plt.plot(\n",
    "        plot_X.detach().cpu(), plot_Y[i].detach().cpu()\n",
    "    )\n",
    "\n",
    "def wrapper(f):\n",
    "    def wrapped(X):\n",
    "        return f(X)[0]\n",
    "    return wrapped\n",
    "\n",
    "solutions, values = botorch.gen_candidates_scipy(\n",
    "    initial_conditions=torch.linspace(0, 1, 10).to(device).reshape(-1, 1),\n",
    "    acquisition_function=wrapper(ds),\n",
    "    lower_bounds=0.,\n",
    "    upper_bounds=1.,\n",
    ")\n",
    "\n",
    "for x_ in solutions:\n",
    "    plt.axvline(x_.detach().cpu())"
   ],
   "metadata": {
    "collapsed": false,
    "pycharm": {
     "name": "#%%\n"
    }
   }
  },
  {
   "cell_type": "code",
   "execution_count": 6,
   "outputs": [
    {
     "name": "stdout",
     "output_type": "stream",
     "text": [
      "torch.Size([4, 2, 3, 1])\n",
      "tensor([[[ 0.3882],\n",
      "         [ 0.4773]],\n",
      "\n",
      "        [[-0.4785],\n",
      "         [-0.2441]]], grad_fn=<AddBackward0>)\n",
      "tensor([[[ 0.3882],\n",
      "         [ 0.4773]],\n",
      "\n",
      "        [[ 0.1080],\n",
      "         [-0.2104]]], grad_fn=<AddBackward0>)\n"
     ]
    }
   ],
   "source": [
    "# Verifying the batch behavior of DS.\n",
    "# DS accepts batch_shape x sample_shape x n x d inputs\n",
    "# The output is the same shape as the input (except last dim)\n",
    "# or is broadcasted to sample_shape x n x 1\n",
    "test_X = torch.rand(4, 2, 3, dim)\n",
    "print(ds(test_X).shape)\n",
    "test_X = torch.tensor([\n",
    "    [[0.], [0.2]], [[0.8], [1.]]\n",
    "])\n",
    "print(ds(test_X))\n",
    "print(ds(test_X[0]))"
   ],
   "metadata": {
    "collapsed": false,
    "pycharm": {
     "name": "#%%\n"
    }
   }
  },
  {
   "cell_type": "markdown",
   "source": [
    "In a batch TS setting, we will want to optimize multiple sample paths in parallel.\n",
    "\n",
    "There are two ways I can think of for doing this.\n",
    "\n",
    "One is to generate the DS object with the full sample shape and optimize each sample\n",
    "path independently, masking out the remaining sample paths.\n",
    "\n",
    "Other alternative is to generate a DS object for each sample path independently. My\n",
    "guess is this is the more wasteful approach, since constructing the DS object is the\n",
    "expensive part.\n",
    "\n",
    "DS actually supports independent evaluations of the sample paths. We will use this as\n",
    "the third alternative below. This is expected to be the clear winner here.\n",
    "\n",
    "### `batched_optimize` is the clear winner. I'll implement this in `gp_sampling.thompson_samplers`."
   ],
   "metadata": {
    "collapsed": false,
    "pycharm": {
     "name": "#%% md\n"
    }
   }
  },
  {
   "cell_type": "code",
   "execution_count": 7,
   "outputs": [],
   "source": [
    "# Set some common parameters / imports\n",
    "from botorch.optim import optimize_acqf\n",
    "num_basis = 256\n",
    "num_restarts = 10\n",
    "\n",
    "# define the model here as well"
   ],
   "metadata": {
    "collapsed": false,
    "pycharm": {
     "name": "#%%\n"
    }
   }
  },
  {
   "cell_type": "code",
   "execution_count": 8,
   "outputs": [
    {
     "name": "stdout",
     "output_type": "stream",
     "text": [
      "tensor([[0.5059],\n",
      "        [0.0000]])\n"
     ]
    }
   ],
   "source": [
    "def masked_optimize(model, num_samples, seed=None) -> Tensor:\n",
    "    r\"\"\"\n",
    "    This will take in a model, generate a DS object with num_samples sample paths, and\n",
    "    optimize these individually using a masked approach.\n",
    "    \"\"\"\n",
    "    if seed:\n",
    "        torch.manual_seed(seed)\n",
    "    ds = decoupled_sampler(\n",
    "        model=model,\n",
    "        sample_shape=torch.Size([num_samples]),\n",
    "        num_basis=256,\n",
    "    )\n",
    "    # this is tested and working\n",
    "    def separator(f, k):\n",
    "        r\"\"\"Return only the output for the k^th sample path\"\"\"\n",
    "        def separated(X):\n",
    "            return f(X)[k]\n",
    "        return separated\n",
    "\n",
    "    solutions = list()\n",
    "    for k in range(num_samples):\n",
    "        # optimize sample paths 1 by 1\n",
    "        sol, val = botorch.gen_candidates_scipy(\n",
    "            initial_conditions=torch.rand(num_restarts, dim, device=device),\n",
    "            acquisition_function=separator(ds, k),\n",
    "            lower_bounds=0.,\n",
    "            upper_bounds=1.,\n",
    "        )\n",
    "        argmax = val.argmax(dim=-2)\n",
    "        solutions.append(sol[argmax])\n",
    "    return torch.cat(solutions, dim=0)\n",
    "\n",
    "print(masked_optimize(model, 2))  # for testing"
   ],
   "metadata": {
    "collapsed": false,
    "pycharm": {
     "name": "#%%\n"
    }
   }
  },
  {
   "cell_type": "code",
   "execution_count": 9,
   "outputs": [
    {
     "name": "stdout",
     "output_type": "stream",
     "text": [
      "tensor([[0.4934],\n",
      "        [0.3771]])\n"
     ]
    }
   ],
   "source": [
    "def sequential_optimize(model, num_samples, seed=None) -> Tensor:\n",
    "    r\"\"\"\n",
    "    In this version, we will generate a new DS object for each sample path and optimize\n",
    "     it. Likely much less efficient but worth comparing with.\n",
    "    \"\"\"\n",
    "    if seed:\n",
    "        torch.manual_seed(seed)\n",
    "    # tested and working\n",
    "    solutions = list()\n",
    "    for _ in range(num_samples):\n",
    "        ds = decoupled_sampler(\n",
    "            model=model,\n",
    "            sample_shape=torch.Size([1]),\n",
    "            num_basis=256,\n",
    "        )\n",
    "        sol, val = botorch.gen_candidates_scipy(\n",
    "            initial_conditions=torch.rand(num_restarts, dim, device=device),\n",
    "            acquisition_function=ds,\n",
    "            lower_bounds=0.,\n",
    "            upper_bounds=1.,\n",
    "        )\n",
    "        argmax = val.argmax(dim=-2)\n",
    "        solutions.append(sol[argmax].squeeze(0))\n",
    "    return torch.cat(solutions, dim=0)\n",
    "\n",
    "print(sequential_optimize(model, 2))  # testing\n"
   ],
   "metadata": {
    "collapsed": false,
    "pycharm": {
     "name": "#%%\n"
    }
   }
  },
  {
   "cell_type": "code",
   "execution_count": 10,
   "outputs": [
    {
     "name": "stdout",
     "output_type": "stream",
     "text": [
      "tensor([[[0.4686]],\n",
      "\n",
      "        [[0.4090]]])\n"
     ]
    }
   ],
   "source": [
    "def batched_optimize(model, num_samples, seed=None) -> Tensor:\n",
    "    r\"\"\"\n",
    "    This optimizes sample paths using batch evaluations of DS samples.\n",
    "    DS accepts batch_shape x num_samples x n x d input, and returns\n",
    "    batch_shape x num_samples x n x 1 output.\n",
    "    Ignoring batch_shape here, we can specify the samples we want to evaluate\n",
    "    for each sample path by supplying num_samples x n x d input.\n",
    "    n here will be the num_restarts, among which we can choose the argmax to\n",
    "    get the TS sample.\n",
    "    \"\"\"\n",
    "    # tested and working\n",
    "    if seed:\n",
    "        torch.manual_seed(seed)\n",
    "    ds = decoupled_sampler(\n",
    "        model=model,\n",
    "        sample_shape=torch.Size([num_samples]),\n",
    "        num_basis=256,\n",
    "    )\n",
    "    sol, val = botorch.gen_candidates_scipy(\n",
    "        initial_conditions=torch.rand(num_samples, num_restarts, dim, device=device),\n",
    "        acquisition_function=ds,\n",
    "        lower_bounds=0.,\n",
    "        upper_bounds=1.,\n",
    "    )\n",
    "    argmax = val.argmax(dim=-2)\n",
    "    return torch.gather(sol, dim=-2, index=argmax.unsqueeze(-1))\n",
    "\n",
    "print(batched_optimize(model, 2))  # testing"
   ],
   "metadata": {
    "collapsed": false,
    "pycharm": {
     "name": "#%%\n"
    }
   }
  },
  {
   "cell_type": "markdown",
   "source": [
    "Let's compare time it takes for each of these methods to draw a number of TS samples."
   ],
   "metadata": {
    "collapsed": false,
    "pycharm": {
     "name": "#%% md\n"
    }
   }
  },
  {
   "cell_type": "code",
   "execution_count": 11,
   "outputs": [],
   "source": [
    "num_train = 20\n",
    "dim = 4\n",
    "train_X = torch.rand(num_train, dim, device=device)\n",
    "train_Y = torch.randn(num_train, 1, device=device)\n",
    "\n",
    "model = botorch.models.SingleTaskGP(\n",
    "    train_X, train_Y,\n",
    ")\n",
    "mll = gpytorch.mlls.ExactMarginalLogLikelihood(model.likelihood, model)\n",
    "_ = botorch.fit_gpytorch_model(mll)"
   ],
   "metadata": {
    "collapsed": false,
    "pycharm": {
     "name": "#%%\n"
    }
   }
  },
  {
   "cell_type": "code",
   "execution_count": 12,
   "outputs": [
    {
     "name": "stdout",
     "output_type": "stream",
     "text": [
      "4.18 s ± 131 ms per loop (mean ± std. dev. of 7 runs, 1 loop each)\n",
      "peak memory: 687.95 MiB, increment: 0.02 MiB\n"
     ]
    }
   ],
   "source": [
    "%load_ext memory_profiler\n",
    "\n",
    "%timeit masked_optimize(model, 50)\n",
    "%memit masked_optimize(model, 50)"
   ],
   "metadata": {
    "collapsed": false,
    "pycharm": {
     "name": "#%%\n"
    }
   }
  },
  {
   "cell_type": "code",
   "execution_count": 13,
   "outputs": [
    {
     "name": "stdout",
     "output_type": "stream",
     "text": [
      "4.31 s ± 336 ms per loop (mean ± std. dev. of 7 runs, 1 loop each)\n",
      "peak memory: 718.67 MiB, increment: 0.02 MiB\n"
     ]
    }
   ],
   "source": [
    "%timeit sequential_optimize(model, 50)\n",
    "%memit sequential_optimize(model, 50)"
   ],
   "metadata": {
    "collapsed": false,
    "pycharm": {
     "name": "#%%\n"
    }
   }
  },
  {
   "cell_type": "code",
   "execution_count": 14,
   "outputs": [
    {
     "name": "stdout",
     "output_type": "stream",
     "text": [
      "604 ms ± 135 ms per loop (mean ± std. dev. of 7 runs, 1 loop each)\n",
      "peak memory: 805.11 MiB, increment: 0.02 MiB\n"
     ]
    }
   ],
   "source": [
    "%timeit batched_optimize(model, 50)\n",
    "%memit batched_optimize(model, 50)"
   ],
   "metadata": {
    "collapsed": false,
    "pycharm": {
     "name": "#%%\n"
    }
   }
  },
  {
   "cell_type": "markdown",
   "source": [
    "Also with a small number of samples."
   ],
   "metadata": {
    "collapsed": false,
    "pycharm": {
     "name": "#%% md\n"
    }
   }
  },
  {
   "cell_type": "code",
   "execution_count": 15,
   "outputs": [
    {
     "name": "stdout",
     "output_type": "stream",
     "text": [
      "478 ms ± 150 ms per loop (mean ± std. dev. of 7 runs, 1 loop each)\n"
     ]
    }
   ],
   "source": [
    "%timeit masked_optimize(model, 5)"
   ],
   "metadata": {
    "collapsed": false,
    "pycharm": {
     "name": "#%%\n"
    }
   }
  },
  {
   "cell_type": "code",
   "execution_count": 16,
   "outputs": [
    {
     "name": "stdout",
     "output_type": "stream",
     "text": [
      "432 ms ± 76.2 ms per loop (mean ± std. dev. of 7 runs, 1 loop each)\n"
     ]
    }
   ],
   "source": [
    "%timeit sequential_optimize(model, 5)"
   ],
   "metadata": {
    "collapsed": false,
    "pycharm": {
     "name": "#%%\n"
    }
   }
  },
  {
   "cell_type": "code",
   "execution_count": 17,
   "outputs": [
    {
     "name": "stdout",
     "output_type": "stream",
     "text": [
      "147 ms ± 9.3 ms per loop (mean ± std. dev. of 7 runs, 10 loops each)\n"
     ]
    }
   ],
   "source": [
    "%timeit batched_optimize(model, 5)"
   ],
   "metadata": {
    "collapsed": false,
    "pycharm": {
     "name": "#%%\n"
    }
   }
  },
  {
   "cell_type": "markdown",
   "source": [
    "Lastly, with a single sample. Expecting identical behavior here."
   ],
   "metadata": {
    "collapsed": false,
    "pycharm": {
     "name": "#%% md\n"
    }
   }
  },
  {
   "cell_type": "code",
   "execution_count": 18,
   "outputs": [
    {
     "name": "stdout",
     "output_type": "stream",
     "text": [
      "86.2 ms ± 7.44 ms per loop (mean ± std. dev. of 7 runs, 10 loops each)\n"
     ]
    }
   ],
   "source": [
    "%timeit masked_optimize(model, 1)"
   ],
   "metadata": {
    "collapsed": false,
    "pycharm": {
     "name": "#%%\n"
    }
   }
  },
  {
   "cell_type": "code",
   "execution_count": 19,
   "outputs": [
    {
     "name": "stdout",
     "output_type": "stream",
     "text": [
      "84.9 ms ± 7.55 ms per loop (mean ± std. dev. of 7 runs, 10 loops each)\n"
     ]
    }
   ],
   "source": [
    "%timeit sequential_optimize(model, 1)"
   ],
   "metadata": {
    "collapsed": false,
    "pycharm": {
     "name": "#%%\n"
    }
   }
  },
  {
   "cell_type": "code",
   "execution_count": 20,
   "outputs": [
    {
     "name": "stdout",
     "output_type": "stream",
     "text": [
      "86.6 ms ± 5.53 ms per loop (mean ± std. dev. of 7 runs, 10 loops each)\n"
     ]
    }
   ],
   "source": [
    "%timeit batched_optimize(model, 1)"
   ],
   "metadata": {
    "collapsed": false,
    "pycharm": {
     "name": "#%%\n"
    }
   }
  }
 ],
 "metadata": {
  "kernelspec": {
   "display_name": "Python 3",
   "language": "python",
   "name": "python3"
  },
  "language_info": {
   "codemirror_mode": {
    "name": "ipython",
    "version": 2
   },
   "file_extension": ".py",
   "mimetype": "text/x-python",
   "name": "python",
   "nbconvert_exporter": "python",
   "pygments_lexer": "ipython2",
   "version": "2.7.6"
  }
 },
 "nbformat": 4,
 "nbformat_minor": 0
}
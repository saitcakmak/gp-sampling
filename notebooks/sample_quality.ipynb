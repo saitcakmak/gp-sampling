{
 "cells": [
  {
   "cell_type": "markdown",
   "metadata": {
    "collapsed": true,
    "pycharm": {
     "name": "#%% md\n"
    }
   },
   "source": [
    "The decoupled samplers show surprisingly inferior performance in thompson sampling,\n",
    "which leads to suspicions for a buggy implementation. In this notebook, we will analyze\n",
    " the sample quality of the decoupled samplers to better understand the behavior.\n",
    "\n",
    "The bug has been fixed."
   ]
  },
  {
   "cell_type": "code",
   "execution_count": 1,
   "outputs": [
    {
     "name": "stdout",
     "output_type": "stream",
     "text": [
      "Using matplotlib backend: TkAgg\n"
     ]
    }
   ],
   "source": [
    "import torch\n",
    "from gp_sampling.decoupled_samplers import decoupled_sampler\n",
    "from gp_sampling.utils.random_gp import generate_random_gp\n",
    "%matplotlib\n",
    "import matplotlib.pyplot as plt\n",
    "from time import time\n"
   ],
   "metadata": {
    "collapsed": false,
    "pycharm": {
     "name": "#%%\n"
    }
   }
  },
  {
   "cell_type": "code",
   "execution_count": 2,
   "outputs": [
    {
     "name": "stderr",
     "output_type": "stream",
     "text": [
      "/home/saitcakmak/anaconda3/envs/gp-sampling/lib/python3.8/site-packages/gpytorch/utils/cholesky.py:46: NumericalWarning: A not p.d., added jitter of 1.0e-06 to the diagonal\n",
      "  warnings.warn(f\"A not p.d., added jitter of {jitter_new:.1e} to the diagonal\", NumericalWarning)\n"
     ]
    }
   ],
   "source": [
    "plt.close()\n",
    "\n",
    "model = generate_random_gp(dim=1, num_train=10, standardized=False)\n",
    "sample_count = 5\n",
    "sample_shape = torch.Size([sample_count])\n",
    "ds = decoupled_sampler(\n",
    "    model=model,\n",
    "    sample_shape=sample_shape,\n",
    "    num_basis=256\n",
    ")\n",
    "with torch.no_grad():\n",
    "    test_X = torch.linspace(0, 1, 100).reshape(-1, 1)\n",
    "    ds_samples = ds(test_X).reshape(sample_count, 100).detach().t()\n",
    "    exact_samples = model.posterior(test_X).rsample(\n",
    "        sample_shape=sample_shape).reshape(sample_count, 100).detach().t()\n",
    "    post_mean = model.posterior(test_X).mean.reshape(-1)\n",
    "    post_var = model.posterior(test_X).variance\n",
    "    post_std = torch.sqrt(post_var).reshape(-1)\n",
    "\n",
    "plt.plot(test_X, ds_samples, label=\"decoupled\", color=\"red\")\n",
    "plt.plot(test_X, exact_samples, label=\"exact\", color=\"blue\")\n",
    "plt.plot(test_X, post_mean, label=\"post_mean\", color=\"green\")\n",
    "plt.fill_between(\n",
    "    test_X.reshape(-1),\n",
    "    post_mean - 2 * post_std,\n",
    "    post_mean + 2 * post_std,\n",
    "    color=\"green\"\n",
    ")\n",
    "plt.legend()\n",
    "plt.grid(True)\n",
    "plt.show()"
   ],
   "metadata": {
    "collapsed": false,
    "pycharm": {
     "name": "#%%\n"
    }
   }
  }
 ],
 "metadata": {
  "kernelspec": {
   "display_name": "Python 3",
   "language": "python",
   "name": "python3"
  },
  "language_info": {
   "codemirror_mode": {
    "name": "ipython",
    "version": 2
   },
   "file_extension": ".py",
   "mimetype": "text/x-python",
   "name": "python",
   "nbconvert_exporter": "python",
   "pygments_lexer": "ipython2",
   "version": "2.7.6"
  }
 },
 "nbformat": 4,
 "nbformat_minor": 0
}
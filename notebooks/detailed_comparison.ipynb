{
 "cells": [
  {
   "cell_type": "markdown",
   "metadata": {
    "collapsed": true,
    "pycharm": {
     "name": "#%% md\n"
    }
   },
   "source": [
    "The decoupled samplers have unexpected behavior with this implementation. The goal here\n",
    " is to compare it in detail with the original implementation, and debug the problem.\n",
    "\n",
    "The bug has been identified and fixed."
   ]
  },
  {
   "cell_type": "code",
   "execution_count": 60,
   "outputs": [
    {
     "name": "stdout",
     "output_type": "stream",
     "text": [
      "Using matplotlib backend: TkAgg\n"
     ]
    }
   ],
   "source": [
    "import torch\n",
    "from botorch.models import SingleTaskGP\n",
    "%matplotlib\n",
    "import matplotlib.pyplot as plt\n",
    "from gp_sampling import decoupled_sampler\n"
   ],
   "metadata": {
    "collapsed": false,
    "pycharm": {
     "name": "#%%\n"
    }
   }
  },
  {
   "cell_type": "code",
   "execution_count": 61,
   "outputs": [
    {
     "data": {
      "text/plain": "[<matplotlib.lines.Line2D at 0x7fbb3b5b5b20>,\n <matplotlib.lines.Line2D at 0x7fbb3b5b5940>,\n <matplotlib.lines.Line2D at 0x7fbb3b5b5d90>,\n <matplotlib.lines.Line2D at 0x7fbb3b5b5760>,\n <matplotlib.lines.Line2D at 0x7fbb3b5b59a0>,\n <matplotlib.lines.Line2D at 0x7fbb3b5b5970>,\n <matplotlib.lines.Line2D at 0x7fbb3b5b58e0>,\n <matplotlib.lines.Line2D at 0x7fbb3b5b50d0>,\n <matplotlib.lines.Line2D at 0x7fbb3b5b5dc0>,\n <matplotlib.lines.Line2D at 0x7fbb3b5b5f70>]"
     },
     "execution_count": 61,
     "metadata": {},
     "output_type": "execute_result"
    }
   ],
   "source": [
    "# generate the train data\n",
    "train_X = torch.arange(0, 1, 0.1).reshape(-1, 1)\n",
    "train_Y = train_X * torch.sin(20*train_X)\n",
    "\n",
    "# Initialize the GP model\n",
    "model = SingleTaskGP(train_X, train_Y)\n",
    "\n",
    "# Set GP hyper-parameters\n",
    "# model.covar_module.outputscale = 0.1  # This is a different scale\n",
    "model.covar_module.base_kernel.lengthscale = 0.1\n",
    "model.likelihood.noise = 5e-3\n",
    "\n",
    "# test points\n",
    "test_X = torch.arange(0, 1, 0.01).reshape(-1, 1)\n",
    "\n",
    "# clear previous plots\n",
    "plt.close()\n",
    "\n",
    "# posterior summary\n",
    "with torch.no_grad():\n",
    "    post_mean = model.posterior(test_X).mean.reshape(-1)\n",
    "    post_std = torch.sqrt(model.posterior(test_X).variance).reshape(-1)\n",
    "plt.plot(test_X.reshape(-1), post_mean, label=\"post_mean\", color=\"green\")\n",
    "plt.fill_between(\n",
    "    test_X.reshape(-1),\n",
    "    post_mean - 2 * post_std,\n",
    "    post_mean + 2 * post_std,\n",
    "    alpha=0.5\n",
    ")\n",
    "\n",
    "# plot several posterior samples\n",
    "num_samples = 10\n",
    "sample_shape = torch.Size([num_samples])\n",
    "with torch.no_grad():\n",
    "    exact_samples = model.posterior(test_X).rsample(sample_shape=sample_shape).squeeze(-1)\n",
    "plt.plot(\n",
    "    test_X.reshape(-1),\n",
    "    exact_samples.t(),\n",
    "    label=\"exact\",\n",
    "    color=\"blue\"\n",
    ")\n"
   ],
   "metadata": {
    "collapsed": false,
    "pycharm": {
     "name": "#%%\n"
    }
   }
  },
  {
   "cell_type": "code",
   "execution_count": 62,
   "outputs": [
    {
     "data": {
      "text/plain": "[<matplotlib.lines.Line2D at 0x7fbb3bf79730>,\n <matplotlib.lines.Line2D at 0x7fbb3bf79df0>,\n <matplotlib.lines.Line2D at 0x7fbb3bf79d90>,\n <matplotlib.lines.Line2D at 0x7fbb3bf79640>,\n <matplotlib.lines.Line2D at 0x7fbb3bf79a30>,\n <matplotlib.lines.Line2D at 0x7fbb3bf794c0>,\n <matplotlib.lines.Line2D at 0x7fbb3bf79d00>,\n <matplotlib.lines.Line2D at 0x7fbb3bf797c0>,\n <matplotlib.lines.Line2D at 0x7fbb3bf79c10>,\n <matplotlib.lines.Line2D at 0x7fbb3bf58eb0>]"
     },
     "execution_count": 62,
     "metadata": {},
     "output_type": "execute_result"
    }
   ],
   "source": [
    "# initialize the decoupled sampler\n",
    "ds = decoupled_sampler(\n",
    "    model=model,\n",
    "    sample_shape=sample_shape,\n",
    "    num_basis=256\n",
    ")\n",
    "\n",
    "# sample from decoupled\n",
    "with torch.no_grad():\n",
    "    ds_samples = ds(test_X)\n",
    "\n",
    "# plot the samples\n",
    "plt.plot(\n",
    "    test_X.reshape(-1),\n",
    "    ds_samples.squeeze(-1).t(),\n",
    "    label=\"decoupled\",\n",
    "    color=\"red\"\n",
    ")\n"
   ],
   "metadata": {
    "collapsed": false,
    "pycharm": {
     "name": "#%%\n"
    }
   }
  },
  {
   "cell_type": "code",
   "execution_count": 63,
   "outputs": [],
   "source": [
    "#plot\n",
    "plt.grid(True)\n",
    "plt.legend()\n",
    "plt.title(\"torch\")\n",
    "plt.show()"
   ],
   "metadata": {
    "collapsed": false,
    "pycharm": {
     "name": "#%%\n"
    }
   }
  }
 ],
 "metadata": {
  "kernelspec": {
   "display_name": "Python 3",
   "language": "python",
   "name": "python3"
  },
  "language_info": {
   "codemirror_mode": {
    "name": "ipython",
    "version": 2
   },
   "file_extension": ".py",
   "mimetype": "text/x-python",
   "name": "python",
   "nbconvert_exporter": "python",
   "pygments_lexer": "ipython2",
   "version": "2.7.6"
  }
 },
 "nbformat": 4,
 "nbformat_minor": 0
}
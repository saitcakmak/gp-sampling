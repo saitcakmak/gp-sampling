{
 "cells": [
  {
   "cell_type": "markdown",
   "metadata": {
    "collapsed": true,
    "pycharm": {
     "name": "#%% md\n"
    }
   },
   "source": [
    "The decoupled samplers have unexpected behavior with this implementation. The goal here\n",
    " is to compare it in detail with the original implementation, and debug the problem.\n",
    "\n",
    "The bug has been identified and fixed."
   ]
  },
  {
   "cell_type": "code",
   "execution_count": 1,
   "outputs": [
    {
     "name": "stdout",
     "output_type": "stream",
     "text": [
      "Using matplotlib backend: TkAgg\n"
     ]
    }
   ],
   "source": [
    "import torch\n",
    "from botorch.models import SingleTaskGP\n",
    "%matplotlib\n",
    "import matplotlib.pyplot as plt\n",
    "from gp_sampling import decoupled_sampler\n",
    "import pandas as pd\n",
    "import numpy as np\n"
   ],
   "metadata": {
    "collapsed": false,
    "pycharm": {
     "name": "#%%\n"
    }
   }
  },
  {
   "cell_type": "code",
   "execution_count": 2,
   "outputs": [
    {
     "data": {
      "text/plain": "<matplotlib.collections.PolyCollection at 0x7fb3dc2ada60>"
     },
     "execution_count": 2,
     "metadata": {},
     "output_type": "execute_result"
    }
   ],
   "source": [
    "# generate the train data\n",
    "dim = 1\n",
    "train_X = torch.arange(0, 1, 0.1).reshape(-1, 1)\n",
    "train_Y = train_X * torch.sin(20*train_X)\n",
    "\n",
    "# Initialize the GP model\n",
    "model = SingleTaskGP(train_X, train_Y)\n",
    "\n",
    "# Set GP hyper-parameters\n",
    "# model.covar_module.outputscale = 0.1  # This is a different scale\n",
    "model.covar_module.base_kernel.lengthscale = 0.1\n",
    "model.likelihood.noise = 5e-3\n",
    "\n",
    "# test points\n",
    "test_X = torch.arange(0, 1, 0.01).reshape(-1, 1)\n",
    "\n",
    "# clear previous plots\n",
    "plt.close()\n",
    "\n",
    "# posterior summary\n",
    "with torch.no_grad():\n",
    "    post_mean = model.posterior(test_X).mean.reshape(-1)\n",
    "    post_std = torch.sqrt(model.posterior(test_X).variance).reshape(-1)\n",
    "plt.plot(test_X.reshape(-1), post_mean, label=\"post_mean\", color=\"green\")\n",
    "plt.fill_between(\n",
    "    test_X.reshape(-1),\n",
    "    post_mean - 2 * post_std,\n",
    "    post_mean + 2 * post_std,\n",
    "    alpha=0.5\n",
    ")\n"
   ],
   "metadata": {
    "collapsed": false,
    "pycharm": {
     "name": "#%%\n"
    }
   }
  },
  {
   "cell_type": "markdown",
   "source": [
    "These two code blocks add samples from exact posterior and the decoupled sampler\n",
    "respectively."
   ],
   "metadata": {
    "collapsed": false,
    "pycharm": {
     "name": "#%% md\n"
    }
   }
  },
  {
   "cell_type": "code",
   "execution_count": 3,
   "outputs": [
    {
     "data": {
      "text/plain": "[<matplotlib.lines.Line2D at 0x7fb3dfd4e430>,\n <matplotlib.lines.Line2D at 0x7fb3dfd4eaf0>,\n <matplotlib.lines.Line2D at 0x7fb3dfd4ebe0>,\n <matplotlib.lines.Line2D at 0x7fb4a0492550>,\n <matplotlib.lines.Line2D at 0x7fb4a048c490>,\n <matplotlib.lines.Line2D at 0x7fb4a048c0d0>,\n <matplotlib.lines.Line2D at 0x7fb4a048cd30>,\n <matplotlib.lines.Line2D at 0x7fb4a048c8e0>,\n <matplotlib.lines.Line2D at 0x7fb4a048cac0>,\n <matplotlib.lines.Line2D at 0x7fb3dfd69280>,\n <matplotlib.lines.Line2D at 0x7fb3dfd69220>,\n <matplotlib.lines.Line2D at 0x7fb3dfd690d0>,\n <matplotlib.lines.Line2D at 0x7fb3dfd69100>,\n <matplotlib.lines.Line2D at 0x7fb3dc2add90>,\n <matplotlib.lines.Line2D at 0x7fb3dc2addf0>,\n <matplotlib.lines.Line2D at 0x7fb3dc2ade80>,\n <matplotlib.lines.Line2D at 0x7fb3dc2adf40>,\n <matplotlib.lines.Line2D at 0x7fb3dc2ad970>,\n <matplotlib.lines.Line2D at 0x7fb4a04864f0>,\n <matplotlib.lines.Line2D at 0x7fb4a0486370>,\n <matplotlib.lines.Line2D at 0x7fb4a04864c0>,\n <matplotlib.lines.Line2D at 0x7fb4a0486520>,\n <matplotlib.lines.Line2D at 0x7fb3dc255040>,\n <matplotlib.lines.Line2D at 0x7fb3dc255100>,\n <matplotlib.lines.Line2D at 0x7fb3dc2551c0>,\n <matplotlib.lines.Line2D at 0x7fb3dc255280>,\n <matplotlib.lines.Line2D at 0x7fb3dc255340>,\n <matplotlib.lines.Line2D at 0x7fb3dc255400>,\n <matplotlib.lines.Line2D at 0x7fb3dc2554c0>,\n <matplotlib.lines.Line2D at 0x7fb3dc255580>,\n <matplotlib.lines.Line2D at 0x7fb3dc255640>,\n <matplotlib.lines.Line2D at 0x7fb3dc255700>,\n <matplotlib.lines.Line2D at 0x7fb3dc2557c0>,\n <matplotlib.lines.Line2D at 0x7fb3dc255880>,\n <matplotlib.lines.Line2D at 0x7fb3dc255940>,\n <matplotlib.lines.Line2D at 0x7fb3dc255a00>,\n <matplotlib.lines.Line2D at 0x7fb3dc255ac0>,\n <matplotlib.lines.Line2D at 0x7fb3dc255b80>,\n <matplotlib.lines.Line2D at 0x7fb3dc255c40>,\n <matplotlib.lines.Line2D at 0x7fb3dc255d00>,\n <matplotlib.lines.Line2D at 0x7fb3dc255dc0>,\n <matplotlib.lines.Line2D at 0x7fb3dc255e80>,\n <matplotlib.lines.Line2D at 0x7fb3dc255f40>,\n <matplotlib.lines.Line2D at 0x7fb3dc25a040>,\n <matplotlib.lines.Line2D at 0x7fb3dc25a100>,\n <matplotlib.lines.Line2D at 0x7fb3dc25a1c0>,\n <matplotlib.lines.Line2D at 0x7fb3dc25a280>,\n <matplotlib.lines.Line2D at 0x7fb3dc25a340>,\n <matplotlib.lines.Line2D at 0x7fb3dc25a400>,\n <matplotlib.lines.Line2D at 0x7fb3dc25a4c0>]"
     },
     "execution_count": 3,
     "metadata": {},
     "output_type": "execute_result"
    }
   ],
   "source": [
    "# plot several posterior samples\n",
    "num_samples = 50\n",
    "sample_shape = torch.Size([num_samples])\n",
    "with torch.no_grad():\n",
    "    exact_samples = model.posterior(test_X).rsample(sample_shape=sample_shape).squeeze(-1)\n",
    "plt.plot(\n",
    "    test_X.reshape(-1),\n",
    "    exact_samples.t(),\n",
    "    label=\"exact\",\n",
    "    color=\"blue\"\n",
    ")\n"
   ],
   "metadata": {
    "collapsed": false,
    "pycharm": {
     "name": "#%%\n"
    }
   }
  },
  {
   "cell_type": "code",
   "execution_count": 4,
   "outputs": [
    {
     "data": {
      "text/plain": "[<matplotlib.lines.Line2D at 0x7fb3dc238dc0>,\n <matplotlib.lines.Line2D at 0x7fb3dc238be0>,\n <matplotlib.lines.Line2D at 0x7fb3dc238ee0>,\n <matplotlib.lines.Line2D at 0x7fb3dc238fa0>,\n <matplotlib.lines.Line2D at 0x7fb3dc1d0040>,\n <matplotlib.lines.Line2D at 0x7fb3dc1d0100>,\n <matplotlib.lines.Line2D at 0x7fb3dc1d01c0>,\n <matplotlib.lines.Line2D at 0x7fb3dc1d0280>,\n <matplotlib.lines.Line2D at 0x7fb3dc1d0340>,\n <matplotlib.lines.Line2D at 0x7fb3dc1d0400>,\n <matplotlib.lines.Line2D at 0x7fb3dc1d04c0>,\n <matplotlib.lines.Line2D at 0x7fb3dc1d0580>,\n <matplotlib.lines.Line2D at 0x7fb3dc1d0640>,\n <matplotlib.lines.Line2D at 0x7fb3dc1d0700>,\n <matplotlib.lines.Line2D at 0x7fb3dc1d07c0>,\n <matplotlib.lines.Line2D at 0x7fb3dc1d0880>,\n <matplotlib.lines.Line2D at 0x7fb3dc1d0940>,\n <matplotlib.lines.Line2D at 0x7fb3dc1d0a00>,\n <matplotlib.lines.Line2D at 0x7fb3dc1d0ac0>,\n <matplotlib.lines.Line2D at 0x7fb3dc1d0b80>,\n <matplotlib.lines.Line2D at 0x7fb3dc1d0c40>,\n <matplotlib.lines.Line2D at 0x7fb3dc1d0d00>,\n <matplotlib.lines.Line2D at 0x7fb3dc1d0dc0>,\n <matplotlib.lines.Line2D at 0x7fb3dc1d0e80>,\n <matplotlib.lines.Line2D at 0x7fb3dc1d0f40>,\n <matplotlib.lines.Line2D at 0x7fb3dc1d5040>,\n <matplotlib.lines.Line2D at 0x7fb3dc1d5100>,\n <matplotlib.lines.Line2D at 0x7fb3dc1d51c0>,\n <matplotlib.lines.Line2D at 0x7fb3dc1d5280>,\n <matplotlib.lines.Line2D at 0x7fb3dc1d5340>,\n <matplotlib.lines.Line2D at 0x7fb3dc1d5400>,\n <matplotlib.lines.Line2D at 0x7fb3dc1d54c0>,\n <matplotlib.lines.Line2D at 0x7fb3dc1d5580>,\n <matplotlib.lines.Line2D at 0x7fb3dc1d5640>,\n <matplotlib.lines.Line2D at 0x7fb3dc1d5700>,\n <matplotlib.lines.Line2D at 0x7fb3dc1d57c0>,\n <matplotlib.lines.Line2D at 0x7fb3dc1d5880>,\n <matplotlib.lines.Line2D at 0x7fb3dc1d5940>,\n <matplotlib.lines.Line2D at 0x7fb3dc1d5a00>,\n <matplotlib.lines.Line2D at 0x7fb3dc1d5ac0>,\n <matplotlib.lines.Line2D at 0x7fb3dc1d5b80>,\n <matplotlib.lines.Line2D at 0x7fb3dc1d5c40>,\n <matplotlib.lines.Line2D at 0x7fb3dc1d5d00>,\n <matplotlib.lines.Line2D at 0x7fb3dc1d5dc0>,\n <matplotlib.lines.Line2D at 0x7fb3dc1d5e80>,\n <matplotlib.lines.Line2D at 0x7fb3dc1d5f40>,\n <matplotlib.lines.Line2D at 0x7fb3dc1d9040>,\n <matplotlib.lines.Line2D at 0x7fb3dc1d9100>,\n <matplotlib.lines.Line2D at 0x7fb3dc1d91c0>,\n <matplotlib.lines.Line2D at 0x7fb3dc1d9280>]"
     },
     "execution_count": 4,
     "metadata": {},
     "output_type": "execute_result"
    }
   ],
   "source": [
    "# initialize the decoupled sampler\n",
    "ds = decoupled_sampler(\n",
    "    model=model,\n",
    "    sample_shape=sample_shape,\n",
    "    num_basis=256\n",
    ")\n",
    "\n",
    "# sample from decoupled\n",
    "with torch.no_grad():\n",
    "    ds_samples = ds(test_X)\n",
    "\n",
    "# plot the samples\n",
    "plt.plot(\n",
    "    test_X.reshape(-1),\n",
    "    ds_samples.squeeze(-1).t(),\n",
    "    label=\"decoupled\",\n",
    "    color=\"red\"\n",
    ")\n"
   ],
   "metadata": {
    "collapsed": false,
    "pycharm": {
     "name": "#%%\n"
    }
   }
  },
  {
   "cell_type": "code",
   "execution_count": 5,
   "outputs": [],
   "source": [
    "#plot\n",
    "plt.grid(True)\n",
    "plt.legend()\n",
    "plt.title(\"torch\")\n",
    "plt.show()"
   ],
   "metadata": {
    "collapsed": false,
    "pycharm": {
     "name": "#%%\n"
    }
   }
  },
  {
   "cell_type": "markdown",
   "source": [
    "We will now extend this and compare the MAE between the empirical mean and variance\n",
    "predicted by the decoupler sampler along with the exact posterior samples and the true\n",
    "posterior statistics."
   ],
   "metadata": {
    "collapsed": false,
    "pycharm": {
     "name": "#%% md\n"
    }
   }
  },
  {
   "cell_type": "code",
   "execution_count": 6,
   "outputs": [],
   "source": [
    "# generate the data\n",
    "sample_count = 1000\n",
    "sample_shape = torch.Size([sample_count])\n",
    "ds = decoupled_sampler(\n",
    "    model=model,\n",
    "    sample_shape=sample_shape,\n",
    "    num_basis=1024,\n",
    ")\n",
    "\n",
    "with torch.no_grad():\n",
    "    if dim == 1:\n",
    "        test_X = torch.arange(0, 1, 0.01).reshape(-1, 1)\n",
    "    else:\n",
    "        test_X = torch.rand(100, dim)\n",
    "    ds_samples = ds(test_X).reshape(sample_count, 100).detach()\n",
    "    exact_samples = model.posterior(test_X).rsample(\n",
    "        sample_shape=sample_shape).reshape(sample_count, 100).detach()\n",
    "    post_var = model.posterior(test_X).variance\n",
    "    post_mean = model.posterior(test_X).mean\n",
    "\n",
    "df = pd.DataFrame()\n",
    "df[\"ds_var\"] = torch.var(ds_samples, dim=0).numpy()\n",
    "df[\"exact_var\"] = torch.var(exact_samples, dim=0).numpy()\n",
    "df[\"true_var\"] = post_var.numpy()\n",
    "df[\"ds_mean\"] = torch.mean(ds_samples, dim=0)\n",
    "df[\"exact_mean\"] = torch.mean(exact_samples, dim=0)\n",
    "df[\"true_mean\"] = post_mean.numpy()"
   ],
   "metadata": {
    "collapsed": false,
    "pycharm": {
     "name": "#%%\n"
    }
   }
  },
  {
   "cell_type": "code",
   "execution_count": 7,
   "outputs": [],
   "source": [
    "# plot\n",
    "plt.close(\"all\")\n",
    "df.plot()\n",
    "plt.grid(True)\n",
    "plt.show()"
   ],
   "metadata": {
    "collapsed": false,
    "pycharm": {
     "name": "#%%\n"
    }
   }
  },
  {
   "cell_type": "code",
   "execution_count": 8,
   "outputs": [
    {
     "name": "stdout",
     "output_type": "stream",
     "text": [
      "MAE Variance: ds 0.004140158649533987, exact 0.0015273370081558824\n",
      "MAE Mean: ds 0.002719623502343893, exact 0.005040072835981846\n"
     ]
    }
   ],
   "source": [
    "# report MAE\n",
    "mae_ds_var = np.abs(df[\"ds_var\"] - df[\"true_var\"]).mean()\n",
    "mae_exact_var = np.abs(df[\"exact_var\"] - df[\"true_var\"]).mean()\n",
    "mae_ds_mean = np.abs(df[\"ds_mean\"] - df[\"true_mean\"]).mean()\n",
    "mae_exact_mean = np.abs(df[\"exact_mean\"] - df[\"true_mean\"]).mean()\n",
    "\n",
    "print(f\"MAE Variance: ds {mae_ds_var}, exact {mae_exact_var}\")\n",
    "print(f\"MAE Mean: ds {mae_ds_mean}, exact {mae_exact_mean}\")"
   ],
   "metadata": {
    "collapsed": false,
    "pycharm": {
     "name": "#%%\n"
    }
   }
  }
 ],
 "metadata": {
  "kernelspec": {
   "display_name": "Python 3",
   "language": "python",
   "name": "python3"
  },
  "language_info": {
   "codemirror_mode": {
    "name": "ipython",
    "version": 2
   },
   "file_extension": ".py",
   "mimetype": "text/x-python",
   "name": "python",
   "nbconvert_exporter": "python",
   "pygments_lexer": "ipython2",
   "version": "2.7.6"
  }
 },
 "nbformat": 4,
 "nbformat_minor": 0
}
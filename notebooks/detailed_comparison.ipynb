{
 "cells": [
  {
   "cell_type": "markdown",
   "metadata": {
    "collapsed": true,
    "pycharm": {
     "name": "#%% md\n"
    }
   },
   "source": [
    "The decoupled samplers have unexpected behavior with this implementation. The goal here\n",
    " is to compare it in detail with the original implementation, and debug the problem.\n",
    "\n",
    "The bug has been identified and fixed."
   ]
  },
  {
   "cell_type": "code",
   "execution_count": 1,
   "outputs": [
    {
     "name": "stdout",
     "output_type": "stream",
     "text": [
      "Using matplotlib backend: TkAgg\n"
     ]
    }
   ],
   "source": [
    "import torch\n",
    "from botorch.models import SingleTaskGP\n",
    "%matplotlib\n",
    "import matplotlib.pyplot as plt\n",
    "from gp_sampling import decoupled_sampler\n"
   ],
   "metadata": {
    "collapsed": false,
    "pycharm": {
     "name": "#%%\n"
    }
   }
  },
  {
   "cell_type": "code",
   "execution_count": 2,
   "outputs": [
    {
     "data": {
      "text/plain": "[<matplotlib.lines.Line2D at 0x7f2300570b80>,\n <matplotlib.lines.Line2D at 0x7f2300570bb0>,\n <matplotlib.lines.Line2D at 0x7f2300570af0>,\n <matplotlib.lines.Line2D at 0x7f23005702e0>,\n <matplotlib.lines.Line2D at 0x7f2300570dc0>,\n <matplotlib.lines.Line2D at 0x7f2300570eb0>,\n <matplotlib.lines.Line2D at 0x7f2300570f10>,\n <matplotlib.lines.Line2D at 0x7f2300570fd0>,\n <matplotlib.lines.Line2D at 0x7f23005890d0>,\n <matplotlib.lines.Line2D at 0x7f2300589190>,\n <matplotlib.lines.Line2D at 0x7f2300589250>,\n <matplotlib.lines.Line2D at 0x7f2300589310>,\n <matplotlib.lines.Line2D at 0x7f23005893d0>,\n <matplotlib.lines.Line2D at 0x7f2300589490>,\n <matplotlib.lines.Line2D at 0x7f2300589550>,\n <matplotlib.lines.Line2D at 0x7f2300589610>,\n <matplotlib.lines.Line2D at 0x7f23005896d0>,\n <matplotlib.lines.Line2D at 0x7f2300589790>,\n <matplotlib.lines.Line2D at 0x7f2300589850>,\n <matplotlib.lines.Line2D at 0x7f2300589910>,\n <matplotlib.lines.Line2D at 0x7f23005899d0>,\n <matplotlib.lines.Line2D at 0x7f2300589a90>,\n <matplotlib.lines.Line2D at 0x7f2300589b50>,\n <matplotlib.lines.Line2D at 0x7f2300589c10>,\n <matplotlib.lines.Line2D at 0x7f2300589cd0>,\n <matplotlib.lines.Line2D at 0x7f2300589d90>,\n <matplotlib.lines.Line2D at 0x7f2300589e50>,\n <matplotlib.lines.Line2D at 0x7f2300589f10>,\n <matplotlib.lines.Line2D at 0x7f2300589fd0>,\n <matplotlib.lines.Line2D at 0x7f230058d0d0>,\n <matplotlib.lines.Line2D at 0x7f230058d190>,\n <matplotlib.lines.Line2D at 0x7f230058d250>,\n <matplotlib.lines.Line2D at 0x7f230058d310>,\n <matplotlib.lines.Line2D at 0x7f230058d3d0>,\n <matplotlib.lines.Line2D at 0x7f230058d490>,\n <matplotlib.lines.Line2D at 0x7f230058d550>,\n <matplotlib.lines.Line2D at 0x7f230058d610>,\n <matplotlib.lines.Line2D at 0x7f230058d6d0>,\n <matplotlib.lines.Line2D at 0x7f230058d790>,\n <matplotlib.lines.Line2D at 0x7f230058d850>,\n <matplotlib.lines.Line2D at 0x7f230058d910>,\n <matplotlib.lines.Line2D at 0x7f230058d9d0>,\n <matplotlib.lines.Line2D at 0x7f230058da90>,\n <matplotlib.lines.Line2D at 0x7f230058db50>,\n <matplotlib.lines.Line2D at 0x7f230058dc10>,\n <matplotlib.lines.Line2D at 0x7f230058dcd0>,\n <matplotlib.lines.Line2D at 0x7f230058dd90>,\n <matplotlib.lines.Line2D at 0x7f230058de50>,\n <matplotlib.lines.Line2D at 0x7f230058df10>,\n <matplotlib.lines.Line2D at 0x7f230058dfd0>]"
     },
     "execution_count": 2,
     "metadata": {},
     "output_type": "execute_result"
    }
   ],
   "source": [
    "# generate the train data\n",
    "train_X = torch.arange(0, 1, 0.1).reshape(-1, 1)\n",
    "train_Y = train_X * torch.sin(20*train_X)\n",
    "\n",
    "# Initialize the GP model\n",
    "model = SingleTaskGP(train_X, train_Y)\n",
    "\n",
    "# Set GP hyper-parameters\n",
    "# model.covar_module.outputscale = 0.1  # This is a different scale\n",
    "model.covar_module.base_kernel.lengthscale = 0.1\n",
    "model.likelihood.noise = 5e-3\n",
    "\n",
    "# test points\n",
    "test_X = torch.arange(0, 1, 0.01).reshape(-1, 1)\n",
    "\n",
    "# clear previous plots\n",
    "plt.close()\n",
    "\n",
    "# posterior summary\n",
    "with torch.no_grad():\n",
    "    post_mean = model.posterior(test_X).mean.reshape(-1)\n",
    "    post_std = torch.sqrt(model.posterior(test_X).variance).reshape(-1)\n",
    "plt.plot(test_X.reshape(-1), post_mean, label=\"post_mean\", color=\"green\")\n",
    "plt.fill_between(\n",
    "    test_X.reshape(-1),\n",
    "    post_mean - 2 * post_std,\n",
    "    post_mean + 2 * post_std,\n",
    "    alpha=0.5\n",
    ")\n",
    "\n",
    "# plot several posterior samples\n",
    "num_samples = 50\n",
    "sample_shape = torch.Size([num_samples])\n",
    "with torch.no_grad():\n",
    "    exact_samples = model.posterior(test_X).rsample(sample_shape=sample_shape).squeeze(-1)\n",
    "plt.plot(\n",
    "    test_X.reshape(-1),\n",
    "    exact_samples.t(),\n",
    "    label=\"exact\",\n",
    "    color=\"blue\"\n",
    ")\n"
   ],
   "metadata": {
    "collapsed": false,
    "pycharm": {
     "name": "#%%\n"
    }
   }
  },
  {
   "cell_type": "code",
   "execution_count": 3,
   "outputs": [
    {
     "data": {
      "text/plain": "[<matplotlib.lines.Line2D at 0x7f2304023820>,\n <matplotlib.lines.Line2D at 0x7f2304023880>,\n <matplotlib.lines.Line2D at 0x7f2304023cd0>,\n <matplotlib.lines.Line2D at 0x7f2304023d90>,\n <matplotlib.lines.Line2D at 0x7f2304023b80>,\n <matplotlib.lines.Line2D at 0x7f2304023be0>,\n <matplotlib.lines.Line2D at 0x7f2304023af0>,\n <matplotlib.lines.Line2D at 0x7f2304023040>,\n <matplotlib.lines.Line2D at 0x7f23004f2670>,\n <matplotlib.lines.Line2D at 0x7f23004f2850>,\n <matplotlib.lines.Line2D at 0x7f23004f27c0>,\n <matplotlib.lines.Line2D at 0x7f23004f2940>,\n <matplotlib.lines.Line2D at 0x7f23004f27f0>,\n <matplotlib.lines.Line2D at 0x7f23004f29a0>,\n <matplotlib.lines.Line2D at 0x7f23004f2a60>,\n <matplotlib.lines.Line2D at 0x7f23004f2b20>,\n <matplotlib.lines.Line2D at 0x7f23004f2be0>,\n <matplotlib.lines.Line2D at 0x7f23004f2ca0>,\n <matplotlib.lines.Line2D at 0x7f23004f2d60>,\n <matplotlib.lines.Line2D at 0x7f23004f2eb0>,\n <matplotlib.lines.Line2D at 0x7f23004f2fd0>,\n <matplotlib.lines.Line2D at 0x7f23004f2f40>,\n <matplotlib.lines.Line2D at 0x7f23004910a0>,\n <matplotlib.lines.Line2D at 0x7f2300491160>,\n <matplotlib.lines.Line2D at 0x7f2300491220>,\n <matplotlib.lines.Line2D at 0x7f23004912e0>,\n <matplotlib.lines.Line2D at 0x7f23004913a0>,\n <matplotlib.lines.Line2D at 0x7f2300491460>,\n <matplotlib.lines.Line2D at 0x7f2300491520>,\n <matplotlib.lines.Line2D at 0x7f23004915e0>,\n <matplotlib.lines.Line2D at 0x7f23004916a0>,\n <matplotlib.lines.Line2D at 0x7f2300491760>,\n <matplotlib.lines.Line2D at 0x7f2300491820>,\n <matplotlib.lines.Line2D at 0x7f23004918e0>,\n <matplotlib.lines.Line2D at 0x7f23004919a0>,\n <matplotlib.lines.Line2D at 0x7f2300491a60>,\n <matplotlib.lines.Line2D at 0x7f2300491b20>,\n <matplotlib.lines.Line2D at 0x7f2300491be0>,\n <matplotlib.lines.Line2D at 0x7f2300491ca0>,\n <matplotlib.lines.Line2D at 0x7f2300491d60>,\n <matplotlib.lines.Line2D at 0x7f2300491e20>,\n <matplotlib.lines.Line2D at 0x7f2300491ee0>,\n <matplotlib.lines.Line2D at 0x7f2300491fa0>,\n <matplotlib.lines.Line2D at 0x7f23004960a0>,\n <matplotlib.lines.Line2D at 0x7f2300496160>,\n <matplotlib.lines.Line2D at 0x7f2300496220>,\n <matplotlib.lines.Line2D at 0x7f23004962e0>,\n <matplotlib.lines.Line2D at 0x7f23004963a0>,\n <matplotlib.lines.Line2D at 0x7f2300496460>,\n <matplotlib.lines.Line2D at 0x7f2300496520>]"
     },
     "execution_count": 3,
     "metadata": {},
     "output_type": "execute_result"
    }
   ],
   "source": [
    "# initialize the decoupled sampler\n",
    "ds = decoupled_sampler(\n",
    "    model=model,\n",
    "    sample_shape=sample_shape,\n",
    "    num_basis=256\n",
    ")\n",
    "\n",
    "# sample from decoupled\n",
    "with torch.no_grad():\n",
    "    ds_samples = ds(test_X)\n",
    "\n",
    "# plot the samples\n",
    "plt.plot(\n",
    "    test_X.reshape(-1),\n",
    "    ds_samples.squeeze(-1).t(),\n",
    "    label=\"decoupled\",\n",
    "    color=\"red\"\n",
    ")\n"
   ],
   "metadata": {
    "collapsed": false,
    "pycharm": {
     "name": "#%%\n"
    }
   }
  },
  {
   "cell_type": "code",
   "execution_count": 4,
   "outputs": [],
   "source": [
    "#plot\n",
    "plt.grid(True)\n",
    "plt.legend()\n",
    "plt.title(\"torch\")\n",
    "plt.show()"
   ],
   "metadata": {
    "collapsed": false,
    "pycharm": {
     "name": "#%%\n"
    }
   }
  }
 ],
 "metadata": {
  "kernelspec": {
   "display_name": "Python 3",
   "language": "python",
   "name": "python3"
  },
  "language_info": {
   "codemirror_mode": {
    "name": "ipython",
    "version": 2
   },
   "file_extension": ".py",
   "mimetype": "text/x-python",
   "name": "python",
   "nbconvert_exporter": "python",
   "pygments_lexer": "ipython2",
   "version": "2.7.6"
  }
 },
 "nbformat": 4,
 "nbformat_minor": 0
}